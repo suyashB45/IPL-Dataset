{
  "nbformat": 4,
  "nbformat_minor": 0,
  "metadata": {
    "colab": {
      "provenance": []
    },
    "kernelspec": {
      "name": "python3",
      "display_name": "Python 3"
    },
    "language_info": {
      "name": "python"
    }
  },
  "cells": [
    {
      "cell_type": "markdown",
      "source": [
        "# IPL Dataset"
      ],
      "metadata": {
        "id": "6t010jjqaoaV"
      }
    },
    {
      "cell_type": "code",
      "execution_count": 2,
      "metadata": {
        "id": "bUCdCLFcaTJI"
      },
      "outputs": [],
      "source": [
        "# Import necessary libraries\n",
        "import pandas as pd"
      ]
    },
    {
      "cell_type": "markdown",
      "source": [
        "**1. Import a Dataset - Give the source of the data with repository details**"
      ],
      "metadata": {
        "id": "lEMnPYAhoS1y"
      }
    },
    {
      "cell_type": "code",
      "source": [
        "#csv\n",
        "ipl= pd.read_csv('/content/sample_data/ipl2024 Matches.csv')\n",
        "print(ipl.head())"
      ],
      "metadata": {
        "colab": {
          "base_uri": "https://localhost:8080/"
        },
        "id": "qxC5cYp6nzni",
        "outputId": "6fe3024c-e8fa-41f7-e854-8c60f470b930"
      },
      "execution_count": 7,
      "outputs": [
        {
          "output_type": "stream",
          "name": "stdout",
          "text": [
            "   id           date      team1      team2 toss_winner decision  first_score  \\\n",
            "0   1  March 22,2024   Banglore    Chennai    Banglore      Bat          173   \n",
            "1   2  March 23,2024      Delhi     Punjab      Punjab    Field          174   \n",
            "2   3  March 23,2024    Kolkata  Hyderabad   Hyderabad    Field          208   \n",
            "3   4  March 24,2024  Rajasthan    Lucknow   Rajasthan      Bat          193   \n",
            "4   5  March 24,2024    Gujarat     Mumbai      Mumbai    Field          168   \n",
            "\n",
            "   first_wkts  second_score  second_wkts     winner player_of_the_match  \\\n",
            "0           6           176            4    Chennai   Mustafizur Rahman   \n",
            "1           9           177            6     Punjab          Sam Curran   \n",
            "2           7           204            7    Kolkata       Andre Russell   \n",
            "3           4           173            6  Rajasthan        Sanju Samson   \n",
            "4           6           162            9    Gujarat       Sai Sudharsan   \n",
            "\n",
            "       most_runs          most_wkts  \n",
            "0     Anuj Rawat  Mustafizur Rahman  \n",
            "1     Sam Curran      Kuldeep Yadav  \n",
            "2  Andre Russell        T Natarajan  \n",
            "3   Sanju Samson        Trent Boult  \n",
            "4  Dewald Brevis     Jasprit Bumrah  \n"
          ]
        }
      ]
    },
    {
      "cell_type": "markdown",
      "source": [
        "**2. Identify the features in the dataset using functions**"
      ],
      "metadata": {
        "id": "mqXvLz4Soq8Z"
      }
    },
    {
      "cell_type": "code",
      "source": [
        "features = ipl.columns.tolist()\n",
        "print(features)"
      ],
      "metadata": {
        "colab": {
          "base_uri": "https://localhost:8080/"
        },
        "id": "eOAimJp6ovWm",
        "outputId": "5a8263e8-2845-4d7a-8b9f-18b479e92778"
      },
      "execution_count": 9,
      "outputs": [
        {
          "output_type": "stream",
          "name": "stdout",
          "text": [
            "['id', 'date', 'team1', 'team2', 'toss_winner', 'decision', 'first_score', 'first_wkts', 'second_score', 'second_wkts', 'winner', 'player_of_the_match', 'most_runs', 'most_wkts']\n"
          ]
        }
      ]
    },
    {
      "cell_type": "markdown",
      "source": [
        "**3. Identify the datatype of each feature using functions**"
      ],
      "metadata": {
        "id": "JnSoOn-apP8l"
      }
    },
    {
      "cell_type": "code",
      "source": [
        "data_types = ipl.dtypes\n",
        "print(data_types)"
      ],
      "metadata": {
        "colab": {
          "base_uri": "https://localhost:8080/"
        },
        "id": "qKulXEbfpbop",
        "outputId": "ad4500dd-7035-41f9-aba6-aa848d3fad7a"
      },
      "execution_count": 11,
      "outputs": [
        {
          "output_type": "stream",
          "name": "stdout",
          "text": [
            "id                      int64\n",
            "date                   object\n",
            "team1                  object\n",
            "team2                  object\n",
            "toss_winner            object\n",
            "decision               object\n",
            "first_score             int64\n",
            "first_wkts              int64\n",
            "second_score            int64\n",
            "second_wkts             int64\n",
            "winner                 object\n",
            "player_of_the_match    object\n",
            "most_runs              object\n",
            "most_wkts              object\n",
            "dtype: object\n"
          ]
        }
      ]
    },
    {
      "cell_type": "markdown",
      "source": [
        "**4. Check the five point or number summary of the features using functions**"
      ],
      "metadata": {
        "id": "HAzqS3MKpvQ-"
      }
    },
    {
      "cell_type": "code",
      "source": [
        "summary = ipl.describe()\n",
        "print(summary)"
      ],
      "metadata": {
        "colab": {
          "base_uri": "https://localhost:8080/"
        },
        "id": "RCDYJlr_p7PU",
        "outputId": "773707fe-df84-4e8a-bced-a993be3f089a"
      },
      "execution_count": 13,
      "outputs": [
        {
          "output_type": "stream",
          "name": "stdout",
          "text": [
            "              id  first_score  first_wkts  second_score  second_wkts\n",
            "count  74.000000    74.000000   74.000000     74.000000    74.000000\n",
            "mean   37.500000   180.554054    6.148649    169.054054     5.783784\n",
            "std    21.505813    51.855474    2.469998     47.651386     2.934305\n",
            "min     1.000000     0.000000    0.000000      0.000000     0.000000\n",
            "25%    19.250000   162.250000    4.250000    145.250000     3.250000\n",
            "50%    37.500000   182.500000    6.000000    173.500000     6.000000\n",
            "75%    55.750000   208.000000    8.000000    198.250000     8.000000\n",
            "max    74.000000   277.000000   10.000000    262.000000    10.000000\n"
          ]
        }
      ]
    },
    {
      "cell_type": "markdown",
      "source": [
        "**5. Explain briefly what you understood from the data and what action can be taken on this data as you a data scientist.**"
      ],
      "metadata": {
        "id": "TqmPp-MKqRGn"
      }
    },
    {
      "cell_type": "markdown",
      "source": [
        "The IPL 2024 Matches dataset contains information about the matches played in the 2024 Indian Premier League (IPL) season.\n",
        "The features in the dataset likely include details such as team names, match dates, venues, scores, results, and other relevant statistics.\n",
        "\n",
        "The five-point summary provides a basic statistical overview of the numerical features, including count, mean, standard deviation,\n",
        "minimum, and the quartiles (25%, 50%, 75%). For categorical features, it provides information such as the count and unique values.\n",
        "\n",
        "As a data scientist, potential actions on this dataset could include:\n",
        "- Performing exploratory data analysis (EDA) to understand trends and patterns in match outcomes, team performances, and player statistics.\n",
        "- Visualizing the data to gain insights (e.g., bar charts for win counts, line plots for score trends).\n",
        "- Building predictive models to forecast match outcomes based on historical data.\n",
        "- Identifying key performance indicators (KPIs) for teams and players.\n",
        "- Analyzing the impact of various factors (e.g., home advantage, player form) on match results."
      ],
      "metadata": {
        "id": "jsJnVOTCqWJH"
      }
    }
  ]
}